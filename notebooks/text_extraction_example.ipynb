{
  "nbformat": 4,
  "nbformat_minor": 0,
  "metadata": {
    "colab": {
      "name": "Untitled0.ipynb",
      "provenance": [],
      "collapsed_sections": []
    },
    "kernelspec": {
      "name": "python3",
      "display_name": "Python 3"
    },
    "language_info": {
      "name": "python"
    }
  },
  "cells": [
    {
      "cell_type": "code",
      "metadata": {
        "id": "0SMtuPATyx3s"
      },
      "source": [
        "%%bash\n",
        "MINICONDA_INSTALLER_SCRIPT=Miniconda3-4.5.4-Linux-x86_64.sh\n",
        "MINICONDA_PREFIX=/usr/local\n",
        "wget https://repo.continuum.io/miniconda/$MINICONDA_INSTALLER_SCRIPT\n",
        "chmod +x $MINICONDA_INSTALLER_SCRIPT\n",
        "./$MINICONDA_INSTALLER_SCRIPT -b -f -p $MINICONDA_PREFIX"
      ],
      "execution_count": null,
      "outputs": []
    },
    {
      "cell_type": "code",
      "metadata": {
        "id": "eheMP_seywFu"
      },
      "source": [
        "!conda install -c conda-forge poppler"
      ],
      "execution_count": null,
      "outputs": []
    },
    {
      "cell_type": "code",
      "metadata": {
        "id": "zthltB-6p7gV"
      },
      "source": [
        "!pip install textract"
      ],
      "execution_count": null,
      "outputs": []
    },
    {
      "cell_type": "code",
      "metadata": {
        "id": "4NCLMR98wK5z"
      },
      "source": [
        "!pip install pytesseract"
      ],
      "execution_count": null,
      "outputs": []
    },
    {
      "cell_type": "code",
      "metadata": {
        "id": "at0YskxGx1nL"
      },
      "source": [
        "!pip install pdf2image"
      ],
      "execution_count": null,
      "outputs": []
    },
    {
      "cell_type": "code",
      "metadata": {
        "id": "Zc62n-0x2OHQ"
      },
      "source": [
        "!conda install -c conda-forge tesseract"
      ],
      "execution_count": null,
      "outputs": []
    },
    {
      "cell_type": "code",
      "metadata": {
        "id": "Ga-JR43Wm_4K"
      },
      "source": [
        "import pandas as pd\n",
        "import requests\n",
        "import textract\n",
        "import pytesseract\n",
        "from PIL import Image\n",
        "import pytesseract\n",
        "from pdf2image import convert_from_path"
      ],
      "execution_count": 16,
      "outputs": []
    },
    {
      "cell_type": "code",
      "metadata": {
        "colab": {
          "base_uri": "https://localhost:8080/"
        },
        "id": "7DShe1hjgEuU",
        "outputId": "fc219a46-aa79-4a74-aadc-09570813a55b"
      },
      "source": [
        "cd /content/drive/MyDrive/NLP_UCU/"
      ],
      "execution_count": 4,
      "outputs": [
        {
          "output_type": "stream",
          "name": "stdout",
          "text": [
            "/content/drive/MyDrive/NLP_UCU\n"
          ]
        }
      ]
    },
    {
      "cell_type": "code",
      "metadata": {
        "id": "8c4ONsjLnHN9"
      },
      "source": [
        ""
      ],
      "execution_count": null,
      "outputs": []
    },
    {
      "cell_type": "code",
      "metadata": {
        "id": "Z0zoUmqtm_eo"
      },
      "source": [
        "df = pd.read_csv('dataset_v7.csv')"
      ],
      "execution_count": 47,
      "outputs": []
    },
    {
      "cell_type": "code",
      "metadata": {
        "id": "lBB29oAcnLNZ"
      },
      "source": [
        "df.pdf_url.iloc[0]"
      ],
      "execution_count": null,
      "outputs": []
    },
    {
      "cell_type": "code",
      "metadata": {
        "id": "1RvLsQpWiscB"
      },
      "source": [
        "!mkdir pdf"
      ],
      "execution_count": 49,
      "outputs": []
    },
    {
      "cell_type": "code",
      "metadata": {
        "id": "I_mCGMJMneQ_"
      },
      "source": [
        "for i in range(0, 1000, 10):\n",
        "  r = requests.get(df.pdf_url.iloc[i], allow_redirects=True)\n",
        "  open('pdf/file_'+ str(i) + '.pdf', 'wb').write(r.content)\n",
        "  print('Saved file ', i)"
      ],
      "execution_count": null,
      "outputs": []
    },
    {
      "cell_type": "code",
      "metadata": {
        "id": "EPKz2h5gnT7F"
      },
      "source": [
        "text = textract.process(\"pdf/file_670.pdf\")"
      ],
      "execution_count": 25,
      "outputs": []
    },
    {
      "cell_type": "code",
      "metadata": {
        "id": "JACe2JDluC9P"
      },
      "source": [
        "text_utf = text.decode(\"utf-8\")"
      ],
      "execution_count": 26,
      "outputs": []
    },
    {
      "cell_type": "code",
      "metadata": {
        "id": "7LDEhZL2uiX9"
      },
      "source": [
        "print(text_utf)"
      ],
      "execution_count": null,
      "outputs": []
    },
    {
      "cell_type": "code",
      "metadata": {
        "id": "6Kr0WAnuuq2J"
      },
      "source": [
        "text_bad = textract.process(\"pdf/file_590.pdf\")"
      ],
      "execution_count": 28,
      "outputs": []
    },
    {
      "cell_type": "code",
      "metadata": {
        "id": "_QdJiKnsv2Au"
      },
      "source": [
        "text_bad = text_bad.decode(\"utf-8\") "
      ],
      "execution_count": 29,
      "outputs": []
    },
    {
      "cell_type": "code",
      "metadata": {
        "colab": {
          "base_uri": "https://localhost:8080/"
        },
        "id": "1WWYqOBIv3L3",
        "outputId": "f350a207-ccaa-4e77-d9a4-56d589184c20"
      },
      "source": [
        "print(text_bad) #no text, because pdf consists of pure images"
      ],
      "execution_count": 30,
      "outputs": [
        {
          "output_type": "stream",
          "name": "stdout",
          "text": [
            "\f\f\f\f\f\f\f\f\f\f\f\f\f\f\f\f\f\f\f\f\f\f\f\f\f\f\f\f\f\f\f\f\f\f\f\f\f\f\f\f\f\f\f\f\f\f\f\f\f\f\f\f\f\f\f\f\f\f\f\f\f\f\f\f\f\f\f\f\f\f\f\f\f\f\f\f\f\f\f\f\f\f\f\f\f\f\f\f\f\f\f\f\f\f\f\f\f\f\f\f\f\f\f\f\f\f\f\f\f\f\f\f\f\f\f\f\f\f\f\f\f\f\f\f\f\f\f\f\f\f\f\f\f\f\f\f\f\f\f\f\f\f\f\f\f\f\f\f\f\f\f\f\f\f\f\f\f\f\f\f\f\f\f\f\f\f\f\f\f\f\f\f\f\f\f\f\f\f\f\f\f\f\f\f\f\f\f\f\f\f\f\f\f\f\f\f\f\f\f\f\f\f\f\f\f\f\f\f\f\f\f\f\f\f\f\f\f\f\f\f\f\f\f\f\f\f\f\f\f\f\f\f\f\f\f\f\f\f\f\f\f\f\f\f\f\f\f\f\f\f\f\f\f\f\f\f\f\f\f\f\f\f\f\f\f\f\f\f\f\f\f\f\f\f\f\f\f\f\f\f\f\f\f\f\f\f\f\f\f\f\f\f\f\f\f\f\f\f\f\f\f\f\f\f\f\f\f\f\f\f\f\f\f\f\f\f\f\f\f\f\f\f\f\f\f\f\f\f\f\f\f\f\f\f\f\f\f\f\f\f\f\f\f\f\f\f\f\f\f\f\f\f\f\f\f\f\f\f\f\f\f\f\f\f\f\f\f\f\f\f\f\f\f\f\f\f\f\f\f\f\f\f\f\f\f\f\f\f\f\f\f\f\f\f\f\f\f\f\f\f\f\f\f\f\f\f\f\f\f\f\f\f\f\f\f\f\f\f\f\f\n"
          ]
        }
      ]
    },
    {
      "cell_type": "code",
      "metadata": {
        "id": "5CU6YiJx3TlN"
      },
      "source": [
        ""
      ],
      "execution_count": null,
      "outputs": []
    },
    {
      "cell_type": "code",
      "metadata": {
        "id": "1DhJ8a4V3TbN"
      },
      "source": [
        ""
      ],
      "execution_count": null,
      "outputs": []
    },
    {
      "cell_type": "code",
      "metadata": {
        "id": "ZSvj1exnyDyx"
      },
      "source": [
        "pages = convert_from_path(\"pdf/file_410.pdf\")"
      ],
      "execution_count": 5,
      "outputs": []
    },
    {
      "cell_type": "code",
      "metadata": {
        "id": "thFiNQlm1sC1"
      },
      "source": [
        "pages[5].save('page_example.jpg', 'JPEG')"
      ],
      "execution_count": 13,
      "outputs": []
    },
    {
      "cell_type": "code",
      "metadata": {
        "colab": {
          "base_uri": "https://localhost:8080/"
        },
        "id": "sp3nDwGVv7fa",
        "outputId": "a899c00e-167d-4367-a964-bc865d9a913f"
      },
      "source": [
        "print(pytesseract.image_to_string(Image.open('page_example.jpg'), lang='ukr'))"
      ],
      "execution_count": 19,
      "outputs": [
        {
          "output_type": "stream",
          "name": "stdout",
          "text": [
            "Р денна\n",
            "\n",
            "То ,сон-трава\", що на могилах.\n",
            "Тобою вспіваних, буя,\n",
            "Де ти витав на тихих крилах,\n",
            "Де думка плакала твоя!\n",
            "\n",
            "Княжна Я. Кочубеївна.\n",
            "\n",
            "ЯААДСА\n",
            "ПОКЛІН ДУШІ ВЕЛИКІЙ.\n",
            "\n",
            "ра п а\n",
            "\n",
            "Народе мій зневолений. убогий,\n",
            "Відай у сьвіті ти не маєш пари,\n",
            "Відай один ти на землі розлогій\n",
            "Терпів, нещасний, тільки мук і кари.\n",
            "\n",
            "| Татарва і польськії магнати\n",
            "Точили кров твою у лютім бою,\n",
            "І той царат з кровавої палати.\n",
            "Усі знущались тяжко над тобою.\n",
            "\n",
            "Знесилений заснув ти як дитина,\n",
            "Тебе сповила довга ніч-темрява,\n",
            "І вже здавалось, надійшла година,\n",
            "Що в ній загинеш ти і твоя слава.\n",
            "\n",
            "Здавалось так.. Та саме в тій годині,\n",
            "Коли вже смерть тобі проголосили,\n",
            "Сходило Сонце у малій хатині\n",
            "\n",
            "І на промінях добирало сили.\n",
            "\f\n"
          ]
        }
      ]
    },
    {
      "cell_type": "code",
      "metadata": {
        "id": "ymFMnCSm16Uz"
      },
      "source": [
        "pages = convert_from_path(\"pdf/file_930.pdf\")"
      ],
      "execution_count": 20,
      "outputs": []
    },
    {
      "cell_type": "code",
      "metadata": {
        "id": "3SHeqP1F3baQ"
      },
      "source": [
        "pages[5].save('page_example_2.jpg', 'JPEG')"
      ],
      "execution_count": 22,
      "outputs": []
    },
    {
      "cell_type": "code",
      "metadata": {
        "colab": {
          "base_uri": "https://localhost:8080/"
        },
        "id": "V0NX1Vht3hve",
        "outputId": "12598732-9834-4eae-8e1c-cc24a64bf34a"
      },
      "source": [
        "print(pytesseract.image_to_string(Image.open('page_example_2.jpg'), lang='ukr'))"
      ],
      "execution_count": 23,
      "outputs": [
        {
          "output_type": "stream",
          "name": "stdout",
          "text": [
            "Шаляхтичі рушили до лпрохожого, побрязку-\n",
            "ючи срібними острогами. Вони зупинилися перед\n",
            "ним, обкидуючи пильним поглядом. А він вперся\n",
            "рукою в бік і грав пальцями на рукоятці стилета.\n",
            "\n",
            "-- Звідки будете? -- запитав шляхтич.\n",
            "\n",
            "-- З Кракова.\n",
            "\n",
            "-- Папери є?\n",
            "\n",
            "Прохожий засміявся,\n",
            "\n",
            "-- Ви, панове, медом налилися? Відколи то\n",
            "краківські студіозуси носяться з паперами? Цур\n",
            "їм і пек тим паперам. Краще Сенеку або Платона\n",
            "з собою носити, ніж залізні листи й пропуски.\n",
            "\n",
            "-» А Хто ви такий, звідкіля і яка фамілія? --\n",
            "грізно спитав басистий шляхтич і поклав долоню\n",
            "на криву шаблю,\n",
            "\n",
            "-- А я собі студент, як сказано повище. Ос-\n",
            "тап Ковальський, до послуг вашмостям нобіліто-\n",
            "ваний ще з часів праотця Авраама. Вчора у по-\n",
            "єдинку розрізав носа молодому Вишневецькому,\n",
            "всю кров червону посполиту спустив з нього. А\n",
            "вашмосці хто такі, звідкіля і пощо?\n",
            "\n",
            "-- Ми у службі пана гетьмана польного Кали-\n",
            "новського і маємо обов'язок перевіряти кожну\n",
            "чужу людину. Куди прямуєте?\n",
            "\n",
            "-- Додому, мості панове, додому, спочити\n",
            "на рідних подільських перинах,\n",
            "\n",
            "-- То вашмосць з України?\n",
            "\n",
            "-- І ще родовитий шляхтич український.\n",
            "\n",
            "б м\n",
            "\f\n"
          ]
        }
      ]
    },
    {
      "cell_type": "code",
      "metadata": {
        "colab": {
          "base_uri": "https://localhost:8080/"
        },
        "id": "yIs5lqEw3r6m",
        "outputId": "2defaaf9-e358-4143-aeff-7a75830a7a87"
      },
      "source": [
        "print(pytesseract.image_to_string(Image.open('page_example_3.jpg'), lang='ukr'))"
      ],
      "execution_count": 24,
      "outputs": [
        {
          "output_type": "stream",
          "name": "stdout",
          "text": [
            " \n",
            "\n",
            "«Откоїлоу єстк пошай. з\n",
            "\n",
            "оло рочистих таємних змін\n",
            "завершено: золото нового вро-\n",
            "жаю впало під серпами жен-\n",
            "ців. Селища подовж широкого\n",
            "Бористену\") обвіяні запахом\n",
            "меду й нового зерна. В цім\n",
            "році наближається | подвій\n",
            "благословенне осіннє свято:\n",
            "гойний врожай дала Мати-\n",
            "Земля, що то її прадавні\n",
            "предки богинею Семлею нази-\n",
            "вали, -- і мир панує по пілій\n",
            "\n",
            " \n",
            "\n",
            "     \n",
            "\f\n"
          ]
        }
      ]
    },
    {
      "cell_type": "code",
      "metadata": {
        "id": "2gXwzQxJ6nHT"
      },
      "source": [
        ""
      ],
      "execution_count": null,
      "outputs": []
    }
  ]
}