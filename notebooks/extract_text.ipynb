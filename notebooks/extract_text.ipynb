{
 "cells": [
  {
   "cell_type": "code",
   "execution_count": 10,
   "metadata": {
    "id": "Ga-JR43Wm_4K"
   },
   "outputs": [],
   "source": [
    "import pandas as pd\n",
    "import os\n",
    "import requests\n",
    "import json\n",
    "from PIL import Image\n",
    "import pytesseract\n",
    "from pdf2image import convert_from_path, convert_from_bytes\n",
    "import time"
   ]
  },
  {
   "cell_type": "code",
   "execution_count": 11,
   "metadata": {
    "id": "Z0zoUmqtm_eo"
   },
   "outputs": [],
   "source": [
    "df = pd.read_csv('../data/dataset_v7.csv')"
   ]
  },
  {
   "cell_type": "code",
   "execution_count": 12,
   "metadata": {
    "id": "dyvOXfvcjWjR"
   },
   "outputs": [],
   "source": [
    "def process_file(file_idx):\n",
    "    start_time = time.time()\n",
    "    r = requests.get(df.pdf_url.iloc[file_idx], allow_redirects=True)\n",
    "    full_text = dict()\n",
    "    pages = convert_from_bytes(r.content)\n",
    "    number_of_pages = len(pages)\n",
    "    for idx, page in enumerate(pages):\n",
    "        page_text = pytesseract.image_to_string(pages[idx], lang='ukr')\n",
    "        full_text[idx] = page_text\n",
    "    \n",
    "    with open('../data/texts/book_' + str(file_idx) + '.json', 'w') as f:\n",
    "            json.dump(full_text, f)\n",
    "            \n",
    "    print('Processed file: ', file_idx, ', number of pages: ', len(pages), ', time (seconds): ', time.time() - start_time)"
   ]
  },
  {
   "cell_type": "code",
   "execution_count": 9,
   "metadata": {},
   "outputs": [
    {
     "name": "stdout",
     "output_type": "stream",
     "text": [
      "Processed file:  1 , number of pages:  100 , time (seconds):  129.8754439353943\n",
      "CPU times: user 1.79 s, sys: 1.94 s, total: 3.73 s\n",
      "Wall time: 2min 9s\n"
     ]
    }
   ],
   "source": [
    "%%time\n",
    "process_file(file_idx = 1)"
   ]
  },
  {
   "cell_type": "code",
   "execution_count": null,
   "metadata": {},
   "outputs": [],
   "source": [
    "##loop to process all library\n",
    "for book in range(df.shape[0]):\n",
    "    process_file(file_idx = book)"
   ]
  }
 ],
 "metadata": {
  "colab": {
   "authorship_tag": "ABX9TyObAvV57slW+eL25BG5M8/W",
   "collapsed_sections": [],
   "mount_file_id": "1HOx9QTHbuJvrLs_RxK-SFsqNqeDG9WKH",
   "name": "extract_text.ipynb",
   "provenance": []
  },
  "kernelspec": {
   "display_name": "Python 3 (ipykernel)",
   "language": "python",
   "name": "python3"
  },
  "language_info": {
   "codemirror_mode": {
    "name": "ipython",
    "version": 3
   },
   "file_extension": ".py",
   "mimetype": "text/x-python",
   "name": "python",
   "nbconvert_exporter": "python",
   "pygments_lexer": "ipython3",
   "version": "3.8.11"
  }
 },
 "nbformat": 4,
 "nbformat_minor": 4
}
